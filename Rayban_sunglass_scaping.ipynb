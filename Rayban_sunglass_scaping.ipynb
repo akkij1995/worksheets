{
 "cells": [
  {
   "cell_type": "code",
   "execution_count": 1,
   "metadata": {},
   "outputs": [],
   "source": [
    "from selenium import webdriver\n",
    "import os"
   ]
  },
  {
   "cell_type": "code",
   "execution_count": 2,
   "metadata": {},
   "outputs": [],
   "source": [
    "driver=webdriver.Chrome(executable_path='chromedriver.exe')"
   ]
  },
  {
   "cell_type": "code",
   "execution_count": 3,
   "metadata": {},
   "outputs": [],
   "source": [
    "my_pages=driver.get('https://www.flipkart.com/search?q=rayban+glass+for+man&sid=26x&as=on&as-show=on&otracker=AS_QueryStore_OrganicAutoSuggest_1_4_na_na_na&otracker1=AS_QueryStore_OrganicAutoSuggest_1_4_na_na_na&as-pos=1&as-type=RECENT&suggestionId=rayban+glass+for+man%7CSunglasses&requestId=6a895684-08bd-431f-9c72-e5fd83b3edda&as-searchtext=rayb')"
   ]
  },
  {
   "cell_type": "code",
   "execution_count": 14,
   "metadata": {},
   "outputs": [
    {
     "name": "stdout",
     "output_type": "stream",
     "text": [
      "[<selenium.webdriver.remote.webelement.WebElement (session=\"b6c2684ff4d3d7d17fac2663eab6cdaf\", element=\"0355c9f8-fd89-430f-a2a7-3eb7cafeb6d9\")>, <selenium.webdriver.remote.webelement.WebElement (session=\"b6c2684ff4d3d7d17fac2663eab6cdaf\", element=\"1f552e3e-483b-4f77-8430-5eb1b6c8d622\")>, <selenium.webdriver.remote.webelement.WebElement (session=\"b6c2684ff4d3d7d17fac2663eab6cdaf\", element=\"e4cafdee-c516-4af7-8324-44f03a36decd\")>, <selenium.webdriver.remote.webelement.WebElement (session=\"b6c2684ff4d3d7d17fac2663eab6cdaf\", element=\"8ea904e2-c612-42c4-adeb-3971413ed2a6\")>, <selenium.webdriver.remote.webelement.WebElement (session=\"b6c2684ff4d3d7d17fac2663eab6cdaf\", element=\"9fd1055d-bc50-4bf3-b8b8-de7f26726e36\")>, <selenium.webdriver.remote.webelement.WebElement (session=\"b6c2684ff4d3d7d17fac2663eab6cdaf\", element=\"605b0b0d-9867-496e-88c6-7397fe9c1dc7\")>, <selenium.webdriver.remote.webelement.WebElement (session=\"b6c2684ff4d3d7d17fac2663eab6cdaf\", element=\"21ac1681-195f-44ce-a8c6-f099874ecd48\")>, <selenium.webdriver.remote.webelement.WebElement (session=\"b6c2684ff4d3d7d17fac2663eab6cdaf\", element=\"4024eeb4-3709-40ec-b9d2-3729339a1776\")>, <selenium.webdriver.remote.webelement.WebElement (session=\"b6c2684ff4d3d7d17fac2663eab6cdaf\", element=\"74a5006f-4a81-463e-8c8f-cdce015082ef\")>, <selenium.webdriver.remote.webelement.WebElement (session=\"b6c2684ff4d3d7d17fac2663eab6cdaf\", element=\"37c4a1e2-4301-4424-8995-9ff9b4979efc\")>]\n"
     ]
    }
   ],
   "source": [
    "images=driver.find_elements_by_xpath('//img[@class=\"_3togXc\"]')\n",
    "images=images[0:10]\n",
    "print(images)"
   ]
  },
  {
   "cell_type": "code",
   "execution_count": 15,
   "metadata": {},
   "outputs": [
    {
     "name": "stdout",
     "output_type": "stream",
     "text": [
      "https://rukminim1.flixcart.com/image/309/371/kdga1zk0/sunglass/n/3/c/54-4414-stylish-guys-original-imafucwyvnjhxwz4.jpeg?q=50\n",
      "https://rukminim1.flixcart.com/image/329/395/k8ho0i80/sunglass/b/a/h/58-0rb3030l021658-ray-ban-original-imafqhhcqhgmcqvh.jpeg?q=50\n",
      "https://rukminim1.flixcart.com/image/329/395/jiulk7k0-1/sunglass/a/d/z/58-0rb3136i18158-ray-ban-original-imaf6fuaj6zypzvu.jpeg?q=50\n",
      "https://rukminim1.flixcart.com/image/329/395/k6ci8i80/sunglass/g/t/d/56-4287-rozdeal-original-imafjb6kzsdtdgnm.jpeg?q=50\n",
      "https://rukminim1.flixcart.com/image/329/395/k8ho0i80/sunglass/5/d/t/50-0rb4340-ray-ban-original-imafqhhcxtbpzwhw.jpeg?q=50\n",
      "https://rukminim1.flixcart.com/image/329/395/k6mibgw0/sunglass/z/s/g/56-7600-rozdeal-original-imafja2f2vev7jgf.jpeg?q=50\n",
      "https://rukminim1.flixcart.com/image/329/395/sunglass/u/g/7/0rb3342i004-58-ray-ban-63-original-imadswbuxzksdvmu.jpeg?q=50\n",
      "https://rukminim1.flixcart.com/image/329/395/juu4jgw0/sunglass/t/u/u/52-0rb21851249aa52-ray-ban-original-imaffhqatd6sdbw7.jpeg?q=50\n",
      "https://rukminim1.flixcart.com/image/329/395/k65d18w0/sunglass/6/z/y/56-3517-rozdeal-original-imafjmy2qsdwavze.jpeg?q=50\n",
      "https://rukminim1.flixcart.com/image/329/395/kb9ou4w0/sunglass/q/5/l/all-aviator-sunglasses-henry-richel-original-imafgu4cmtpcqb8p.jpeg?q=50\n"
     ]
    }
   ],
   "source": [
    "urls=[]\n",
    "for image in images:\n",
    "    source=image.get_attribute('src')\n",
    "    urls.append(source)\n",
    "    print(source)"
   ]
  },
  {
   "cell_type": "code",
   "execution_count": 16,
   "metadata": {},
   "outputs": [],
   "source": [
    "import shutil\n",
    "import requests"
   ]
  },
  {
   "cell_type": "code",
   "execution_count": 20,
   "metadata": {},
   "outputs": [
    {
     "name": "stdout",
     "output_type": "stream",
     "text": [
      "Downloading 1 of 10 images\n",
      "Downloading 2 of 10 images\n",
      "Downloading 3 of 10 images\n",
      "Downloading 4 of 10 images\n",
      "Downloading 5 of 10 images\n",
      "Downloading 6 of 10 images\n",
      "Downloading 7 of 10 images\n",
      "Downloading 8 of 10 images\n",
      "Downloading 9 of 10 images\n",
      "Downloading 10 of 10 images\n"
     ]
    }
   ],
   "source": [
    "for index,link in enumerate(urls):\n",
    "    print('Downloading {0} of {1} images'.format(index+1,len(urls)))\n",
    "    response=requests.get(link)\n",
    "    with open('Rayban/img_{0}.jpg'.format(index),'wb') as file:\n",
    "        file.write(response.content)"
   ]
  },
  {
   "cell_type": "code",
   "execution_count": null,
   "metadata": {},
   "outputs": [],
   "source": []
  }
 ],
 "metadata": {
  "kernelspec": {
   "display_name": "Python 3",
   "language": "python",
   "name": "python3"
  },
  "language_info": {
   "codemirror_mode": {
    "name": "ipython",
    "version": 3
   },
   "file_extension": ".py",
   "mimetype": "text/x-python",
   "name": "python",
   "nbconvert_exporter": "python",
   "pygments_lexer": "ipython3",
   "version": "3.8.3"
  }
 },
 "nbformat": 4,
 "nbformat_minor": 4
}
