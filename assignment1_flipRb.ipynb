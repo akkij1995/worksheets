{
 "cells": [
  {
   "cell_type": "code",
   "execution_count": 1,
   "metadata": {},
   "outputs": [],
   "source": [
    "# Importing necessary libraries\n",
    "import pandas as pd \n",
    "import numpy as np"
   ]
  },
  {
   "cell_type": "code",
   "execution_count": 2,
   "metadata": {},
   "outputs": [],
   "source": [
    "# reading the data\n",
    "data=pd.read_csv('C:/Users/NC/Desktop/practice/worksheets/PYTHON-WORKSHEET-12/data.csv')"
   ]
  },
  {
   "cell_type": "code",
   "execution_count": 3,
   "metadata": {},
   "outputs": [
    {
     "name": "stdout",
     "output_type": "stream",
     "text": [
      "No. of rows in data : 23678\n",
      "No. of columns in data : 21\n"
     ]
    }
   ],
   "source": [
    "#displaying rows and columns\n",
    "rows=data.shape[0]\n",
    "columns=data.shape[1]\n",
    "print('No. of rows in data :',rows)\n",
    "print('No. of columns in data :',columns)"
   ]
  },
  {
   "cell_type": "code",
   "execution_count": 4,
   "metadata": {},
   "outputs": [
    {
     "data": {
      "text/plain": [
       "Suburb            object\n",
       "Address           object\n",
       "Rooms            float64\n",
       "Type              object\n",
       "Price            float64\n",
       "Method            object\n",
       "SellerG           object\n",
       "Date              object\n",
       "Distance         float64\n",
       "Postcode         float64\n",
       "Bedroom2         float64\n",
       "Bathroom         float64\n",
       "Car              float64\n",
       "Landsize         float64\n",
       "BuildingArea     float64\n",
       "YearBuilt        float64\n",
       "CouncilArea       object\n",
       "Lattitude        float64\n",
       "Longtitude       float64\n",
       "Regionname        object\n",
       "Propertycount    float64\n",
       "dtype: object"
      ]
     },
     "execution_count": 4,
     "metadata": {},
     "output_type": "execute_result"
    }
   ],
   "source": [
    "# displaying data types\n",
    "data.dtypes"
   ]
  },
  {
   "cell_type": "code",
   "execution_count": 5,
   "metadata": {},
   "outputs": [
    {
     "data": {
      "text/plain": [
       "Suburb             131\n",
       "Address            131\n",
       "Rooms              131\n",
       "Type               131\n",
       "Price             5282\n",
       "Method             131\n",
       "SellerG            131\n",
       "Date               131\n",
       "Distance           132\n",
       "Postcode           132\n",
       "Bedroom2          4612\n",
       "Bathroom          4615\n",
       "Car               4757\n",
       "Landsize          6268\n",
       "BuildingArea     13660\n",
       "YearBuilt        12138\n",
       "CouncilArea       8022\n",
       "Lattitude         4435\n",
       "Longtitude        4435\n",
       "Regionname         132\n",
       "Propertycount      132\n",
       "dtype: int64"
      ]
     },
     "execution_count": 5,
     "metadata": {},
     "output_type": "execute_result"
    }
   ],
   "source": [
    "# Checking null values\n",
    "data.isnull().sum()"
   ]
  },
  {
   "cell_type": "code",
   "execution_count": 6,
   "metadata": {},
   "outputs": [],
   "source": [
    "# def to find index of rows having all null values in that row\n",
    "def null_row_index():\n",
    "    index=[]\n",
    "    for i in range(0,len(data)):\n",
    "        count=0\n",
    "        for col in data.columns:\n",
    "            if data[col].isnull()[i]==1:\n",
    "                count+=1\n",
    "            else:\n",
    "                count+=0\n",
    "        if count==21:\n",
    "             index.append(i)\n",
    "    return index\n"
   ]
  },
  {
   "cell_type": "code",
   "execution_count": 7,
   "metadata": {},
   "outputs": [],
   "source": [
    "k=null_row_index()"
   ]
  },
  {
   "cell_type": "code",
   "execution_count": 8,
   "metadata": {},
   "outputs": [
    {
     "data": {
      "text/plain": [
       "[31,\n",
       " 1145,\n",
       " 1348,\n",
       " 2119,\n",
       " 3277,\n",
       " 3288,\n",
       " 3745,\n",
       " 3752,\n",
       " 3798,\n",
       " 3855,\n",
       " 4089,\n",
       " 4096,\n",
       " 4164,\n",
       " 4218,\n",
       " 4222,\n",
       " 4326,\n",
       " 4649,\n",
       " 4897,\n",
       " 4942,\n",
       " 5052,\n",
       " 5223,\n",
       " 5265,\n",
       " 5328,\n",
       " 5331,\n",
       " 5383,\n",
       " 5405,\n",
       " 5625,\n",
       " 5741,\n",
       " 5952,\n",
       " 6125,\n",
       " 6133,\n",
       " 6140,\n",
       " 6143,\n",
       " 6251,\n",
       " 6326,\n",
       " 6406,\n",
       " 6446,\n",
       " 6703,\n",
       " 6717,\n",
       " 6853,\n",
       " 6921,\n",
       " 7086,\n",
       " 7261,\n",
       " 7348,\n",
       " 7596,\n",
       " 7743,\n",
       " 7759,\n",
       " 7762,\n",
       " 7775,\n",
       " 8054,\n",
       " 8095,\n",
       " 8118,\n",
       " 8190,\n",
       " 8409,\n",
       " 8501,\n",
       " 8652,\n",
       " 8816,\n",
       " 8974,\n",
       " 9098,\n",
       " 9210,\n",
       " 9232,\n",
       " 9450,\n",
       " 9455,\n",
       " 9586,\n",
       " 9761,\n",
       " 9888,\n",
       " 9894,\n",
       " 10009,\n",
       " 10125,\n",
       " 10390,\n",
       " 10475,\n",
       " 10738,\n",
       " 10952,\n",
       " 11334,\n",
       " 11348,\n",
       " 11552,\n",
       " 11755,\n",
       " 12087,\n",
       " 12441,\n",
       " 12559,\n",
       " 12997,\n",
       " 13066,\n",
       " 13381,\n",
       " 13647,\n",
       " 13725,\n",
       " 14009,\n",
       " 14471,\n",
       " 14644,\n",
       " 14963,\n",
       " 15094,\n",
       " 15214,\n",
       " 15771,\n",
       " 16044,\n",
       " 16252,\n",
       " 16563,\n",
       " 16655,\n",
       " 16848,\n",
       " 17111,\n",
       " 17246,\n",
       " 17611,\n",
       " 17741,\n",
       " 18077,\n",
       " 18148,\n",
       " 18251,\n",
       " 18374,\n",
       " 18476,\n",
       " 18547,\n",
       " 18671,\n",
       " 18742,\n",
       " 18884,\n",
       " 19001,\n",
       " 19287,\n",
       " 19641,\n",
       " 19949,\n",
       " 20087,\n",
       " 20422,\n",
       " 20496,\n",
       " 20695,\n",
       " 20838,\n",
       " 20880,\n",
       " 21055,\n",
       " 21220,\n",
       " 21343,\n",
       " 21602,\n",
       " 22003,\n",
       " 22109,\n",
       " 22288,\n",
       " 22704,\n",
       " 22918,\n",
       " 23153,\n",
       " 23341]"
      ]
     },
     "execution_count": 8,
     "metadata": {},
     "output_type": "execute_result"
    }
   ],
   "source": [
    "k"
   ]
  },
  {
   "cell_type": "code",
   "execution_count": 9,
   "metadata": {},
   "outputs": [
    {
     "name": "stdout",
     "output_type": "stream",
     "text": [
      "Total no. of empty rows are: 131\n",
      "Percentage of missing rows in dataset is: 0.005532561871779711 %\n"
     ]
    }
   ],
   "source": [
    "# Printing no. of empty rows and percentage \n",
    "print('Total no. of empty rows are:',len(k))\n",
    "print('Percentage of missing rows in dataset is:',(len(k)/len(data)),'%')"
   ]
  },
  {
   "cell_type": "code",
   "execution_count": 10,
   "metadata": {},
   "outputs": [],
   "source": [
    "# Dropping rows having all nan values\n",
    "data.dropna(how='all',inplace=True)"
   ]
  },
  {
   "cell_type": "code",
   "execution_count": 11,
   "metadata": {},
   "outputs": [],
   "source": [
    "null_col=[]\n",
    "for col in data.columns:\n",
    "    if data[col].isnull().sum()>1:\n",
    "        null_col.append(col)"
   ]
  },
  {
   "cell_type": "code",
   "execution_count": 12,
   "metadata": {},
   "outputs": [
    {
     "name": "stdout",
     "output_type": "stream",
     "text": [
      "columns having null values are:\n",
      "Price\n",
      "Bedroom2\n",
      "Bathroom\n",
      "Car\n",
      "Landsize\n",
      "BuildingArea\n",
      "YearBuilt\n",
      "CouncilArea\n",
      "Lattitude\n",
      "Longtitude\n"
     ]
    }
   ],
   "source": [
    "# Printing columns having null values\n",
    "print('columns having null values are:')\n",
    "for col in null_col:\n",
    "    print(col)"
   ]
  },
  {
   "cell_type": "code",
   "execution_count": 13,
   "metadata": {},
   "outputs": [],
   "source": [
    "# Printing column with null values and percentage null values\n",
    "values=[]\n",
    "percentage=[]\n",
    "for col in null_col:\n",
    "    values.append(data[col].isnull().sum())\n",
    "    percentage.append(data[col].isnull().sum()/len(data[col]))\n",
    "    \n",
    "    "
   ]
  },
  {
   "cell_type": "code",
   "execution_count": 14,
   "metadata": {},
   "outputs": [],
   "source": [
    "null_columns=pd.DataFrame({'Column':null_col,'Null values':values,'Percentage null':[x*100 for x in percentage]})"
   ]
  },
  {
   "cell_type": "code",
   "execution_count": 15,
   "metadata": {},
   "outputs": [
    {
     "data": {
      "text/html": [
       "<div>\n",
       "<style scoped>\n",
       "    .dataframe tbody tr th:only-of-type {\n",
       "        vertical-align: middle;\n",
       "    }\n",
       "\n",
       "    .dataframe tbody tr th {\n",
       "        vertical-align: top;\n",
       "    }\n",
       "\n",
       "    .dataframe thead th {\n",
       "        text-align: right;\n",
       "    }\n",
       "</style>\n",
       "<table border=\"1\" class=\"dataframe\">\n",
       "  <thead>\n",
       "    <tr style=\"text-align: right;\">\n",
       "      <th></th>\n",
       "      <th>Column</th>\n",
       "      <th>Null values</th>\n",
       "      <th>Percentage null</th>\n",
       "    </tr>\n",
       "  </thead>\n",
       "  <tbody>\n",
       "    <tr>\n",
       "      <th>0</th>\n",
       "      <td>Price</td>\n",
       "      <td>5151</td>\n",
       "      <td>21.875398</td>\n",
       "    </tr>\n",
       "    <tr>\n",
       "      <th>1</th>\n",
       "      <td>Bedroom2</td>\n",
       "      <td>4481</td>\n",
       "      <td>19.030025</td>\n",
       "    </tr>\n",
       "    <tr>\n",
       "      <th>2</th>\n",
       "      <td>Bathroom</td>\n",
       "      <td>4484</td>\n",
       "      <td>19.042766</td>\n",
       "    </tr>\n",
       "    <tr>\n",
       "      <th>3</th>\n",
       "      <td>Car</td>\n",
       "      <td>4626</td>\n",
       "      <td>19.645815</td>\n",
       "    </tr>\n",
       "    <tr>\n",
       "      <th>4</th>\n",
       "      <td>Landsize</td>\n",
       "      <td>6137</td>\n",
       "      <td>26.062768</td>\n",
       "    </tr>\n",
       "    <tr>\n",
       "      <th>5</th>\n",
       "      <td>BuildingArea</td>\n",
       "      <td>13529</td>\n",
       "      <td>57.455302</td>\n",
       "    </tr>\n",
       "    <tr>\n",
       "      <th>6</th>\n",
       "      <td>YearBuilt</td>\n",
       "      <td>12007</td>\n",
       "      <td>50.991634</td>\n",
       "    </tr>\n",
       "    <tr>\n",
       "      <th>7</th>\n",
       "      <td>CouncilArea</td>\n",
       "      <td>7891</td>\n",
       "      <td>33.511700</td>\n",
       "    </tr>\n",
       "    <tr>\n",
       "      <th>8</th>\n",
       "      <td>Lattitude</td>\n",
       "      <td>4304</td>\n",
       "      <td>18.278337</td>\n",
       "    </tr>\n",
       "    <tr>\n",
       "      <th>9</th>\n",
       "      <td>Longtitude</td>\n",
       "      <td>4304</td>\n",
       "      <td>18.278337</td>\n",
       "    </tr>\n",
       "  </tbody>\n",
       "</table>\n",
       "</div>"
      ],
      "text/plain": [
       "         Column  Null values  Percentage null\n",
       "0         Price         5151        21.875398\n",
       "1      Bedroom2         4481        19.030025\n",
       "2      Bathroom         4484        19.042766\n",
       "3           Car         4626        19.645815\n",
       "4      Landsize         6137        26.062768\n",
       "5  BuildingArea        13529        57.455302\n",
       "6     YearBuilt        12007        50.991634\n",
       "7   CouncilArea         7891        33.511700\n",
       "8     Lattitude         4304        18.278337\n",
       "9    Longtitude         4304        18.278337"
      ]
     },
     "execution_count": 15,
     "metadata": {},
     "output_type": "execute_result"
    }
   ],
   "source": [
    "null_columns"
   ]
  },
  {
   "cell_type": "code",
   "execution_count": 16,
   "metadata": {},
   "outputs": [],
   "source": [
    "# printing index of rows having null values\n",
    "missing_rows_index = data[data.isna().any(axis=1)].index"
   ]
  },
  {
   "cell_type": "code",
   "execution_count": 17,
   "metadata": {},
   "outputs": [
    {
     "data": {
      "text/plain": [
       "Int64Index([    0,     1,     3,     5,     7,     8,     9,    10,    12,\n",
       "               13,\n",
       "            ...\n",
       "            23668, 23669, 23670, 23671, 23672, 23673, 23674, 23675, 23676,\n",
       "            23677],\n",
       "           dtype='int64', length=17351)"
      ]
     },
     "execution_count": 17,
     "metadata": {},
     "output_type": "execute_result"
    }
   ],
   "source": [
    "missing_rows_index"
   ]
  },
  {
   "cell_type": "code",
   "execution_count": 18,
   "metadata": {},
   "outputs": [],
   "source": [
    "# Missing values in row and percentage missing value in that row\n",
    "index=[]\n",
    "values=[]\n",
    "missing=[]\n",
    "for i in missing_rows_index:\n",
    "    count=0\n",
    "    for col in data.columns:\n",
    "        if data[col].isnull()[i]==1:\n",
    "            count+=1\n",
    "        else:\n",
    "            count+=0\n",
    "    index.append(i)\n",
    "    values.append(count)\n",
    "    missing.append(count/21)"
   ]
  },
  {
   "cell_type": "code",
   "execution_count": 19,
   "metadata": {},
   "outputs": [],
   "source": [
    "null_rows=pd.DataFrame({'Index':index,'Missing Values':values,'Percentage missing':[x*100 for x in missing]})"
   ]
  },
  {
   "cell_type": "code",
   "execution_count": 20,
   "metadata": {},
   "outputs": [
    {
     "data": {
      "text/html": [
       "<div>\n",
       "<style scoped>\n",
       "    .dataframe tbody tr th:only-of-type {\n",
       "        vertical-align: middle;\n",
       "    }\n",
       "\n",
       "    .dataframe tbody tr th {\n",
       "        vertical-align: top;\n",
       "    }\n",
       "\n",
       "    .dataframe thead th {\n",
       "        text-align: right;\n",
       "    }\n",
       "</style>\n",
       "<table border=\"1\" class=\"dataframe\">\n",
       "  <thead>\n",
       "    <tr style=\"text-align: right;\">\n",
       "      <th></th>\n",
       "      <th>Index</th>\n",
       "      <th>Missing Values</th>\n",
       "      <th>Percentage missing</th>\n",
       "    </tr>\n",
       "  </thead>\n",
       "  <tbody>\n",
       "    <tr>\n",
       "      <th>0</th>\n",
       "      <td>0</td>\n",
       "      <td>3</td>\n",
       "      <td>14.285714</td>\n",
       "    </tr>\n",
       "    <tr>\n",
       "      <th>1</th>\n",
       "      <td>1</td>\n",
       "      <td>2</td>\n",
       "      <td>9.523810</td>\n",
       "    </tr>\n",
       "    <tr>\n",
       "      <th>2</th>\n",
       "      <td>3</td>\n",
       "      <td>3</td>\n",
       "      <td>14.285714</td>\n",
       "    </tr>\n",
       "    <tr>\n",
       "      <th>3</th>\n",
       "      <td>5</td>\n",
       "      <td>2</td>\n",
       "      <td>9.523810</td>\n",
       "    </tr>\n",
       "    <tr>\n",
       "      <th>4</th>\n",
       "      <td>7</td>\n",
       "      <td>1</td>\n",
       "      <td>4.761905</td>\n",
       "    </tr>\n",
       "    <tr>\n",
       "      <th>...</th>\n",
       "      <td>...</td>\n",
       "      <td>...</td>\n",
       "      <td>...</td>\n",
       "    </tr>\n",
       "    <tr>\n",
       "      <th>17346</th>\n",
       "      <td>23673</td>\n",
       "      <td>2</td>\n",
       "      <td>9.523810</td>\n",
       "    </tr>\n",
       "    <tr>\n",
       "      <th>17347</th>\n",
       "      <td>23674</td>\n",
       "      <td>8</td>\n",
       "      <td>38.095238</td>\n",
       "    </tr>\n",
       "    <tr>\n",
       "      <th>17348</th>\n",
       "      <td>23675</td>\n",
       "      <td>4</td>\n",
       "      <td>19.047619</td>\n",
       "    </tr>\n",
       "    <tr>\n",
       "      <th>17349</th>\n",
       "      <td>23676</td>\n",
       "      <td>1</td>\n",
       "      <td>4.761905</td>\n",
       "    </tr>\n",
       "    <tr>\n",
       "      <th>17350</th>\n",
       "      <td>23677</td>\n",
       "      <td>2</td>\n",
       "      <td>9.523810</td>\n",
       "    </tr>\n",
       "  </tbody>\n",
       "</table>\n",
       "<p>17351 rows × 3 columns</p>\n",
       "</div>"
      ],
      "text/plain": [
       "       Index  Missing Values  Percentage missing\n",
       "0          0               3           14.285714\n",
       "1          1               2            9.523810\n",
       "2          3               3           14.285714\n",
       "3          5               2            9.523810\n",
       "4          7               1            4.761905\n",
       "...      ...             ...                 ...\n",
       "17346  23673               2            9.523810\n",
       "17347  23674               8           38.095238\n",
       "17348  23675               4           19.047619\n",
       "17349  23676               1            4.761905\n",
       "17350  23677               2            9.523810\n",
       "\n",
       "[17351 rows x 3 columns]"
      ]
     },
     "execution_count": 20,
     "metadata": {},
     "output_type": "execute_result"
    }
   ],
   "source": [
    "null_rows"
   ]
  },
  {
   "cell_type": "code",
   "execution_count": 21,
   "metadata": {},
   "outputs": [],
   "source": [
    "#dropping column having more than 30% missing values \n",
    "for i,j in enumerate(null_columns['Percentage null']):\n",
    "    if j>30:\n",
    "        data.drop(null_columns['Column'][i],axis=1,inplace=True)"
   ]
  },
  {
   "cell_type": "code",
   "execution_count": 22,
   "metadata": {},
   "outputs": [],
   "source": [
    "#printing rows having more than 5 null and percentage of that\n",
    "val=[]\n",
    "percent=[]\n",
    "for i in range(len(null_rows)):\n",
    "    if null_rows['Missing Values'][i]>5:\n",
    "        val.append(null_rows['Missing Values'][i])\n",
    "        percent.append(null_rows['Percentage missing'][i])\n",
    "        "
   ]
  },
  {
   "cell_type": "code",
   "execution_count": 23,
   "metadata": {},
   "outputs": [],
   "source": [
    "missing_row=pd.DataFrame({'Number':val,'Percentage':percent})"
   ]
  },
  {
   "cell_type": "code",
   "execution_count": 24,
   "metadata": {},
   "outputs": [
    {
     "data": {
      "text/html": [
       "<div>\n",
       "<style scoped>\n",
       "    .dataframe tbody tr th:only-of-type {\n",
       "        vertical-align: middle;\n",
       "    }\n",
       "\n",
       "    .dataframe tbody tr th {\n",
       "        vertical-align: top;\n",
       "    }\n",
       "\n",
       "    .dataframe thead th {\n",
       "        text-align: right;\n",
       "    }\n",
       "</style>\n",
       "<table border=\"1\" class=\"dataframe\">\n",
       "  <thead>\n",
       "    <tr style=\"text-align: right;\">\n",
       "      <th></th>\n",
       "      <th>Number</th>\n",
       "      <th>Percentage</th>\n",
       "    </tr>\n",
       "  </thead>\n",
       "  <tbody>\n",
       "    <tr>\n",
       "      <th>0</th>\n",
       "      <td>9</td>\n",
       "      <td>42.857143</td>\n",
       "    </tr>\n",
       "    <tr>\n",
       "      <th>1</th>\n",
       "      <td>9</td>\n",
       "      <td>42.857143</td>\n",
       "    </tr>\n",
       "    <tr>\n",
       "      <th>2</th>\n",
       "      <td>9</td>\n",
       "      <td>42.857143</td>\n",
       "    </tr>\n",
       "    <tr>\n",
       "      <th>3</th>\n",
       "      <td>9</td>\n",
       "      <td>42.857143</td>\n",
       "    </tr>\n",
       "    <tr>\n",
       "      <th>4</th>\n",
       "      <td>9</td>\n",
       "      <td>42.857143</td>\n",
       "    </tr>\n",
       "    <tr>\n",
       "      <th>...</th>\n",
       "      <td>...</td>\n",
       "      <td>...</td>\n",
       "    </tr>\n",
       "    <tr>\n",
       "      <th>4487</th>\n",
       "      <td>9</td>\n",
       "      <td>42.857143</td>\n",
       "    </tr>\n",
       "    <tr>\n",
       "      <th>4488</th>\n",
       "      <td>6</td>\n",
       "      <td>28.571429</td>\n",
       "    </tr>\n",
       "    <tr>\n",
       "      <th>4489</th>\n",
       "      <td>9</td>\n",
       "      <td>42.857143</td>\n",
       "    </tr>\n",
       "    <tr>\n",
       "      <th>4490</th>\n",
       "      <td>9</td>\n",
       "      <td>42.857143</td>\n",
       "    </tr>\n",
       "    <tr>\n",
       "      <th>4491</th>\n",
       "      <td>8</td>\n",
       "      <td>38.095238</td>\n",
       "    </tr>\n",
       "  </tbody>\n",
       "</table>\n",
       "<p>4492 rows × 2 columns</p>\n",
       "</div>"
      ],
      "text/plain": [
       "      Number  Percentage\n",
       "0          9   42.857143\n",
       "1          9   42.857143\n",
       "2          9   42.857143\n",
       "3          9   42.857143\n",
       "4          9   42.857143\n",
       "...      ...         ...\n",
       "4487       9   42.857143\n",
       "4488       6   28.571429\n",
       "4489       9   42.857143\n",
       "4490       9   42.857143\n",
       "4491       8   38.095238\n",
       "\n",
       "[4492 rows x 2 columns]"
      ]
     },
     "execution_count": 24,
     "metadata": {},
     "output_type": "execute_result"
    }
   ],
   "source": [
    "missing_row"
   ]
  },
  {
   "cell_type": "code",
   "execution_count": 25,
   "metadata": {},
   "outputs": [],
   "source": [
    "#There are no rows having missing values more than 5 and percentage less than 20."
   ]
  },
  {
   "cell_type": "code",
   "execution_count": 26,
   "metadata": {},
   "outputs": [
    {
     "data": {
      "text/html": [
       "<div>\n",
       "<style scoped>\n",
       "    .dataframe tbody tr th:only-of-type {\n",
       "        vertical-align: middle;\n",
       "    }\n",
       "\n",
       "    .dataframe tbody tr th {\n",
       "        vertical-align: top;\n",
       "    }\n",
       "\n",
       "    .dataframe thead th {\n",
       "        text-align: right;\n",
       "    }\n",
       "</style>\n",
       "<table border=\"1\" class=\"dataframe\">\n",
       "  <thead>\n",
       "    <tr style=\"text-align: right;\">\n",
       "      <th></th>\n",
       "      <th>Rooms</th>\n",
       "      <th>Price</th>\n",
       "      <th>Distance</th>\n",
       "      <th>Postcode</th>\n",
       "      <th>Bedroom2</th>\n",
       "      <th>Bathroom</th>\n",
       "      <th>Car</th>\n",
       "      <th>Landsize</th>\n",
       "      <th>Lattitude</th>\n",
       "      <th>Longtitude</th>\n",
       "      <th>Propertycount</th>\n",
       "    </tr>\n",
       "  </thead>\n",
       "  <tbody>\n",
       "    <tr>\n",
       "      <th>count</th>\n",
       "      <td>23547.000000</td>\n",
       "      <td>1.839600e+04</td>\n",
       "      <td>23546.000000</td>\n",
       "      <td>23546.000000</td>\n",
       "      <td>19066.000000</td>\n",
       "      <td>19063.000000</td>\n",
       "      <td>18921.000000</td>\n",
       "      <td>17410.000000</td>\n",
       "      <td>19243.000000</td>\n",
       "      <td>19243.000000</td>\n",
       "      <td>23546.000000</td>\n",
       "    </tr>\n",
       "    <tr>\n",
       "      <th>mean</th>\n",
       "      <td>2.976048</td>\n",
       "      <td>1.056697e+06</td>\n",
       "      <td>10.306515</td>\n",
       "      <td>3109.782893</td>\n",
       "      <td>2.951956</td>\n",
       "      <td>1.570897</td>\n",
       "      <td>1.626235</td>\n",
       "      <td>551.783458</td>\n",
       "      <td>-37.812434</td>\n",
       "      <td>145.000287</td>\n",
       "      <td>7517.480591</td>\n",
       "    </tr>\n",
       "    <tr>\n",
       "      <th>std</th>\n",
       "      <td>0.974501</td>\n",
       "      <td>6.419217e+05</td>\n",
       "      <td>6.016318</td>\n",
       "      <td>94.522190</td>\n",
       "      <td>0.996032</td>\n",
       "      <td>0.712684</td>\n",
       "      <td>0.974048</td>\n",
       "      <td>3544.288014</td>\n",
       "      <td>0.079926</td>\n",
       "      <td>0.106071</td>\n",
       "      <td>4414.995634</td>\n",
       "    </tr>\n",
       "    <tr>\n",
       "      <th>min</th>\n",
       "      <td>1.000000</td>\n",
       "      <td>8.500000e+04</td>\n",
       "      <td>0.000000</td>\n",
       "      <td>3000.000000</td>\n",
       "      <td>0.000000</td>\n",
       "      <td>0.000000</td>\n",
       "      <td>0.000000</td>\n",
       "      <td>0.000000</td>\n",
       "      <td>-38.184180</td>\n",
       "      <td>144.431620</td>\n",
       "      <td>129.000000</td>\n",
       "    </tr>\n",
       "    <tr>\n",
       "      <th>25%</th>\n",
       "      <td>2.000000</td>\n",
       "      <td>6.330000e+05</td>\n",
       "      <td>6.200000</td>\n",
       "      <td>3047.000000</td>\n",
       "      <td>2.000000</td>\n",
       "      <td>1.000000</td>\n",
       "      <td>1.000000</td>\n",
       "      <td>181.000000</td>\n",
       "      <td>-37.859300</td>\n",
       "      <td>144.939300</td>\n",
       "      <td>4385.000000</td>\n",
       "    </tr>\n",
       "    <tr>\n",
       "      <th>50%</th>\n",
       "      <td>3.000000</td>\n",
       "      <td>8.800000e+05</td>\n",
       "      <td>9.500000</td>\n",
       "      <td>3101.000000</td>\n",
       "      <td>3.000000</td>\n",
       "      <td>1.000000</td>\n",
       "      <td>2.000000</td>\n",
       "      <td>448.000000</td>\n",
       "      <td>-37.809700</td>\n",
       "      <td>145.004300</td>\n",
       "      <td>6567.000000</td>\n",
       "    </tr>\n",
       "    <tr>\n",
       "      <th>75%</th>\n",
       "      <td>4.000000</td>\n",
       "      <td>1.302000e+06</td>\n",
       "      <td>13.000000</td>\n",
       "      <td>3150.000000</td>\n",
       "      <td>4.000000</td>\n",
       "      <td>2.000000</td>\n",
       "      <td>2.000000</td>\n",
       "      <td>656.000000</td>\n",
       "      <td>-37.759800</td>\n",
       "      <td>145.063100</td>\n",
       "      <td>10331.000000</td>\n",
       "    </tr>\n",
       "    <tr>\n",
       "      <th>max</th>\n",
       "      <td>12.000000</td>\n",
       "      <td>9.000000e+06</td>\n",
       "      <td>48.100000</td>\n",
       "      <td>3978.000000</td>\n",
       "      <td>30.000000</td>\n",
       "      <td>12.000000</td>\n",
       "      <td>26.000000</td>\n",
       "      <td>433014.000000</td>\n",
       "      <td>-37.407580</td>\n",
       "      <td>145.526350</td>\n",
       "      <td>21650.000000</td>\n",
       "    </tr>\n",
       "  </tbody>\n",
       "</table>\n",
       "</div>"
      ],
      "text/plain": [
       "              Rooms         Price      Distance      Postcode      Bedroom2  \\\n",
       "count  23547.000000  1.839600e+04  23546.000000  23546.000000  19066.000000   \n",
       "mean       2.976048  1.056697e+06     10.306515   3109.782893      2.951956   \n",
       "std        0.974501  6.419217e+05      6.016318     94.522190      0.996032   \n",
       "min        1.000000  8.500000e+04      0.000000   3000.000000      0.000000   \n",
       "25%        2.000000  6.330000e+05      6.200000   3047.000000      2.000000   \n",
       "50%        3.000000  8.800000e+05      9.500000   3101.000000      3.000000   \n",
       "75%        4.000000  1.302000e+06     13.000000   3150.000000      4.000000   \n",
       "max       12.000000  9.000000e+06     48.100000   3978.000000     30.000000   \n",
       "\n",
       "           Bathroom           Car       Landsize     Lattitude    Longtitude  \\\n",
       "count  19063.000000  18921.000000   17410.000000  19243.000000  19243.000000   \n",
       "mean       1.570897      1.626235     551.783458    -37.812434    145.000287   \n",
       "std        0.712684      0.974048    3544.288014      0.079926      0.106071   \n",
       "min        0.000000      0.000000       0.000000    -38.184180    144.431620   \n",
       "25%        1.000000      1.000000     181.000000    -37.859300    144.939300   \n",
       "50%        1.000000      2.000000     448.000000    -37.809700    145.004300   \n",
       "75%        2.000000      2.000000     656.000000    -37.759800    145.063100   \n",
       "max       12.000000     26.000000  433014.000000    -37.407580    145.526350   \n",
       "\n",
       "       Propertycount  \n",
       "count   23546.000000  \n",
       "mean     7517.480591  \n",
       "std      4414.995634  \n",
       "min       129.000000  \n",
       "25%      4385.000000  \n",
       "50%      6567.000000  \n",
       "75%     10331.000000  \n",
       "max     21650.000000  "
      ]
     },
     "execution_count": 26,
     "metadata": {},
     "output_type": "execute_result"
    }
   ],
   "source": [
    "data.describe()"
   ]
  },
  {
   "cell_type": "code",
   "execution_count": 27,
   "metadata": {},
   "outputs": [
    {
     "data": {
      "text/plain": [
       "Suburb            0.000000\n",
       "Address           0.000000\n",
       "Rooms             0.000000\n",
       "Type              0.000000\n",
       "Price            21.875398\n",
       "Method            0.000000\n",
       "SellerG           0.000000\n",
       "Date              0.000000\n",
       "Distance          0.004247\n",
       "Postcode          0.004247\n",
       "Bedroom2         19.030025\n",
       "Bathroom         19.042766\n",
       "Car              19.645815\n",
       "Landsize         26.062768\n",
       "Lattitude        18.278337\n",
       "Longtitude       18.278337\n",
       "Regionname        0.004247\n",
       "Propertycount     0.004247\n",
       "dtype: float64"
      ]
     },
     "execution_count": 27,
     "metadata": {},
     "output_type": "execute_result"
    }
   ],
   "source": [
    "# Printing percentage of null in column\n",
    "data.isnull().sum()*100/len(data)"
   ]
  },
  {
   "cell_type": "code",
   "execution_count": 28,
   "metadata": {},
   "outputs": [
    {
     "data": {
      "text/plain": [
       "0           NaN\n",
       "1     1480000.0\n",
       "2     1035000.0\n",
       "3           NaN\n",
       "4     1465000.0\n",
       "5      850000.0\n",
       "6     1600000.0\n",
       "7           NaN\n",
       "8           NaN\n",
       "9           NaN\n",
       "10     941000.0\n",
       "11    1876000.0\n",
       "12          NaN\n",
       "13          NaN\n",
       "14    1636000.0\n",
       "15    1000000.0\n",
       "16     745000.0\n",
       "17     300000.0\n",
       "18    1097000.0\n",
       "19     542000.0\n",
       "20          NaN\n",
       "21     760000.0\n",
       "22     481000.0\n",
       "23     700000.0\n",
       "24    1350000.0\n",
       "25     750000.0\n",
       "26    1985000.0\n",
       "27     500000.0\n",
       "28    1172500.0\n",
       "29     441000.0\n",
       "Name: Price, dtype: float64"
      ]
     },
     "execution_count": 28,
     "metadata": {},
     "output_type": "execute_result"
    }
   ],
   "source": [
    "data.Price.head(30)"
   ]
  },
  {
   "cell_type": "code",
   "execution_count": 29,
   "metadata": {},
   "outputs": [],
   "source": [
    "# As Price is continuous variable ,missing values can be replaced by mean or median of the column."
   ]
  },
  {
   "cell_type": "code",
   "execution_count": 30,
   "metadata": {},
   "outputs": [
    {
     "name": "stdout",
     "output_type": "stream",
     "text": [
      "Mean of price column is: 1056697.4609154165\n",
      "Median of price column is: 880000.0\n"
     ]
    }
   ],
   "source": [
    "print('Mean of price column is:',data['Price'].mean())\n",
    "print('Median of price column is:',data['Price'].median())"
   ]
  },
  {
   "cell_type": "code",
   "execution_count": 31,
   "metadata": {},
   "outputs": [],
   "source": [
    "# filling null values by mean of continuous type of data\n",
    "data.Price.fillna(data['Price'].mean(),inplace=True)"
   ]
  },
  {
   "cell_type": "code",
   "execution_count": 32,
   "metadata": {},
   "outputs": [
    {
     "data": {
      "text/plain": [
       "Suburb            0.000000\n",
       "Address           0.000000\n",
       "Rooms             0.000000\n",
       "Type              0.000000\n",
       "Price             0.000000\n",
       "Method            0.000000\n",
       "SellerG           0.000000\n",
       "Date              0.000000\n",
       "Distance          0.004247\n",
       "Postcode          0.004247\n",
       "Bedroom2         19.030025\n",
       "Bathroom         19.042766\n",
       "Car              19.645815\n",
       "Landsize         26.062768\n",
       "Lattitude        18.278337\n",
       "Longtitude       18.278337\n",
       "Regionname        0.004247\n",
       "Propertycount     0.004247\n",
       "dtype: float64"
      ]
     },
     "execution_count": 32,
     "metadata": {},
     "output_type": "execute_result"
    }
   ],
   "source": [
    "data.isnull().sum()*100/len(data)"
   ]
  },
  {
   "cell_type": "code",
   "execution_count": 33,
   "metadata": {},
   "outputs": [
    {
     "data": {
      "text/plain": [
       "Suburb            object\n",
       "Address           object\n",
       "Rooms            float64\n",
       "Type              object\n",
       "Price            float64\n",
       "Method            object\n",
       "SellerG           object\n",
       "Date              object\n",
       "Distance         float64\n",
       "Postcode         float64\n",
       "Bedroom2         float64\n",
       "Bathroom         float64\n",
       "Car              float64\n",
       "Landsize         float64\n",
       "Lattitude        float64\n",
       "Longtitude       float64\n",
       "Regionname        object\n",
       "Propertycount    float64\n",
       "dtype: object"
      ]
     },
     "execution_count": 33,
     "metadata": {},
     "output_type": "execute_result"
    }
   ],
   "source": [
    "data.dtypes"
   ]
  },
  {
   "cell_type": "code",
   "execution_count": 34,
   "metadata": {},
   "outputs": [],
   "source": [
    "for col in data.columns:\n",
    "    if data[col].dtype=='float64':\n",
    "        data[col].fillna(data[col].mean(),inplace=True)\n"
   ]
  },
  {
   "cell_type": "code",
   "execution_count": 35,
   "metadata": {},
   "outputs": [],
   "source": [
    "# filling null value with mode of categorical data \n",
    "data.Regionname.fillna('Southern Metropolitan',inplace=True)"
   ]
  },
  {
   "cell_type": "code",
   "execution_count": 36,
   "metadata": {},
   "outputs": [
    {
     "data": {
      "text/plain": [
       "Suburb           0\n",
       "Address          0\n",
       "Rooms            0\n",
       "Type             0\n",
       "Price            0\n",
       "Method           0\n",
       "SellerG          0\n",
       "Date             0\n",
       "Distance         0\n",
       "Postcode         0\n",
       "Bedroom2         0\n",
       "Bathroom         0\n",
       "Car              0\n",
       "Landsize         0\n",
       "Lattitude        0\n",
       "Longtitude       0\n",
       "Regionname       0\n",
       "Propertycount    0\n",
       "dtype: int64"
      ]
     },
     "execution_count": 36,
     "metadata": {},
     "output_type": "execute_result"
    }
   ],
   "source": [
    "data.isnull().sum()"
   ]
  },
  {
   "cell_type": "code",
   "execution_count": 37,
   "metadata": {},
   "outputs": [
    {
     "data": {
      "text/plain": [
       "0    Southern Metropolitan\n",
       "dtype: object"
      ]
     },
     "execution_count": 37,
     "metadata": {},
     "output_type": "execute_result"
    }
   ],
   "source": [
    "data.Regionname.mode()"
   ]
  },
  {
   "cell_type": "code",
   "execution_count": 38,
   "metadata": {},
   "outputs": [
    {
     "name": "stdout",
     "output_type": "stream",
     "text": [
      "Number of columns removed are: 3\n",
      "Percentage of columns removed are : 14.285714285714286\n"
     ]
    }
   ],
   "source": [
    "# Printing removed columns and percentage of that\n",
    "print('Number of columns removed are: 3')\n",
    "print('Percentage of columns removed are :',3*100/21)"
   ]
  },
  {
   "cell_type": "code",
   "execution_count": 39,
   "metadata": {},
   "outputs": [
    {
     "name": "stdout",
     "output_type": "stream",
     "text": [
      "No. of rows removed are: 131\n"
     ]
    }
   ],
   "source": [
    "#Printing removed rows\n",
    "print('No. of rows removed are:',23678-len(data))"
   ]
  },
  {
   "cell_type": "markdown",
   "metadata": {},
   "source": [
    "The amount of data which lost was containing more than 30% of missing values so it was necessary to remove them. If null data would have been replaced with any value then data could have not been inappropriate. So the final data justifies.\n"
   ]
  },
  {
   "cell_type": "code",
   "execution_count": null,
   "metadata": {},
   "outputs": [],
   "source": []
  }
 ],
 "metadata": {
  "kernelspec": {
   "display_name": "Python 3",
   "language": "python",
   "name": "python3"
  },
  "language_info": {
   "codemirror_mode": {
    "name": "ipython",
    "version": 3
   },
   "file_extension": ".py",
   "mimetype": "text/x-python",
   "name": "python",
   "nbconvert_exporter": "python",
   "pygments_lexer": "ipython3",
   "version": "3.8.3"
  }
 },
 "nbformat": 4,
 "nbformat_minor": 4
}
